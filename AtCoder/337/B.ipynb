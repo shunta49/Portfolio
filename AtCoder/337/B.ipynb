{
 "cells": [
  {
   "cell_type": "code",
   "execution_count": null,
   "metadata": {},
   "outputs": [],
   "source": [
    "S = input()\n",
    "S_sorted = sorted(S)\n",
    "S_sort = ''\n",
    "for i in range(len(S)):\n",
    "    S_sort += S_sorted[i]\n",
    "\n",
    "if S == S_sort:\n",
    "    print('Yes')\n",
    "else:\n",
    "    print('No')"
   ]
  }
 ],
 "metadata": {
  "language_info": {
   "name": "python"
  }
 },
 "nbformat": 4,
 "nbformat_minor": 2
}
