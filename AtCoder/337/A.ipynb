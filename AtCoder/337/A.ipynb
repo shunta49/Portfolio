{
 "cells": [
  {
   "cell_type": "code",
   "execution_count": 2,
   "metadata": {},
   "outputs": [
    {
     "name": "stdout",
     "output_type": "stream",
     "text": [
      "Draw\n"
     ]
    }
   ],
   "source": [
    "N = int(input())\n",
    "T, A = 0, 0\n",
    "for i in range(N):\n",
    "    t, a = map(int, input().split())\n",
    "    T += t\n",
    "    A += a\n",
    "\n",
    "if T > A:\n",
    "    print('Takahashi')\n",
    "elif A > T:\n",
    "    print('Aoki')\n",
    "else:\n",
    "    print('Draw')"
   ]
  }
 ],
 "metadata": {
  "kernelspec": {
   "display_name": ".venv1",
   "language": "python",
   "name": "python3"
  },
  "language_info": {
   "codemirror_mode": {
    "name": "ipython",
    "version": 3
   },
   "file_extension": ".py",
   "mimetype": "text/x-python",
   "name": "python",
   "nbconvert_exporter": "python",
   "pygments_lexer": "ipython3",
   "version": "3.11.5"
  }
 },
 "nbformat": 4,
 "nbformat_minor": 2
}
