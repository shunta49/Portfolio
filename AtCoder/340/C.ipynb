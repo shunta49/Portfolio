{
 "cells": [
  {
   "cell_type": "code",
   "execution_count": null,
   "metadata": {},
   "outputs": [],
   "source": [
    "#再起関数のメモ化\n",
    "#求めたいものを漸化式で表せることに気づく"
   ]
  },
  {
   "cell_type": "code",
   "execution_count": 2,
   "metadata": {},
   "outputs": [
    {
     "name": "stdout",
     "output_type": "stream",
     "text": [
      "2888\n"
     ]
    }
   ],
   "source": [
    "N = int(input())\n",
    "import numpy as np\n",
    "memo = {} #辞書型で実装できそう\n",
    "\n",
    "def f(N):\n",
    "    if N == 1:\n",
    "        return 0\n",
    "    else:\n",
    "        return f(np.floor(N/2).astype(int)) + f(np.ceil(N/2).astype(int)) + N\n",
    "    \n",
    "print(f(N))"
   ]
  },
  {
   "cell_type": "code",
   "execution_count": 1,
   "metadata": {},
   "outputs": [
    {
     "name": "stdout",
     "output_type": "stream",
     "text": [
      "2888\n"
     ]
    }
   ],
   "source": [
    "from functools import cache\n",
    "\n",
    "@cache\n",
    "def f(N):\n",
    "    return 0 if N == 1 else f(N // 2) + f((N + 1) // 2) + N\n",
    "\n",
    "print(f(int(input())))\n"
   ]
  }
 ],
 "metadata": {
  "kernelspec": {
   "display_name": ".venv1",
   "language": "python",
   "name": "python3"
  },
  "language_info": {
   "codemirror_mode": {
    "name": "ipython",
    "version": 3
   },
   "file_extension": ".py",
   "mimetype": "text/x-python",
   "name": "python",
   "nbconvert_exporter": "python",
   "pygments_lexer": "ipython3",
   "version": "3.11.5"
  }
 },
 "nbformat": 4,
 "nbformat_minor": 2
}
