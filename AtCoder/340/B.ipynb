{
 "cells": [
  {
   "cell_type": "code",
   "execution_count": 21,
   "metadata": {},
   "outputs": [
    {
     "name": "stdout",
     "output_type": "stream",
     "text": [
      "30\n",
      "20\n"
     ]
    }
   ],
   "source": [
    "import numpy as np\n",
    "A = []\n",
    "Q = int(input())\n",
    "Q_list = np.zeros((Q,2), dtype='int')\n",
    "ans = []\n",
    "for i in range(Q):\n",
    "    Q_list[i] = input().split()\n",
    "\n",
    "    if Q_list[i][0] == 1:\n",
    "        A.append(Q_list[i][1])\n",
    "    elif Q_list[i][0] == 2:\n",
    "        ans.append(A[-Q_list[i][1]])\n",
    "\n",
    "print(*ans, sep='\\n')"
   ]
  }
 ],
 "metadata": {
  "kernelspec": {
   "display_name": ".venv1",
   "language": "python",
   "name": "python3"
  },
  "language_info": {
   "codemirror_mode": {
    "name": "ipython",
    "version": 3
   },
   "file_extension": ".py",
   "mimetype": "text/x-python",
   "name": "python",
   "nbconvert_exporter": "python",
   "pygments_lexer": "ipython3",
   "version": "3.11.5"
  }
 },
 "nbformat": 4,
 "nbformat_minor": 2
}
