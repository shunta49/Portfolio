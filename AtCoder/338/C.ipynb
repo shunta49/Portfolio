{
 "cells": [
  {
   "cell_type": "code",
   "execution_count": 38,
   "metadata": {},
   "outputs": [
    {
     "ename": "SyntaxError",
     "evalue": "incomplete input (3050224681.py, line 12)",
     "output_type": "error",
     "traceback": [
      "\u001b[0;36m  Cell \u001b[0;32mIn[38], line 12\u001b[0;36m\u001b[0m\n\u001b[0;31m    for i in range(N):\u001b[0m\n\u001b[0m                      ^\u001b[0m\n\u001b[0;31mSyntaxError\u001b[0m\u001b[0;31m:\u001b[0m incomplete input\n"
     ]
    }
   ],
   "source": [
    "N = int(input())\n",
    "Q_list = list(map(int, input().split()))\n",
    "A_list = list(map(int, input().split()))   #料理Aをx人分作る\n",
    "B_list = list(map(int, input().split()))   #料理Bをy人分作る\n",
    "INF = 10**18\n",
    "ans = 0\n",
    "\n",
    "for x in range(max(Q_list) + 1):\n",
    "    y = INF\n",
    "    for i in range(N):\n",
    "        if Q_list[i] < A_list[i] * x:\n",
    "            y = -INF\n",
    "        elif B_list[i] > 0:\n",
    "            y = min(y, (Q_list[i] - A_list[i] * x) // B_list[i])\n",
    "    ans = max(ans, x + y)\n",
    "print(ans)\n"
   ]
  }
 ],
 "metadata": {
  "kernelspec": {
   "display_name": ".venv1",
   "language": "python",
   "name": "python3"
  },
  "language_info": {
   "codemirror_mode": {
    "name": "ipython",
    "version": 3
   },
   "file_extension": ".py",
   "mimetype": "text/x-python",
   "name": "python",
   "nbconvert_exporter": "python",
   "pygments_lexer": "ipython3",
   "version": "3.11.5"
  }
 },
 "nbformat": 4,
 "nbformat_minor": 2
}
