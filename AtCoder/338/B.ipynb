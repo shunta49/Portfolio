{
 "cells": [
  {
   "cell_type": "code",
   "execution_count": 13,
   "metadata": {},
   "outputs": [
    {
     "name": "stdout",
     "output_type": "stream",
     "text": [
      "o\n"
     ]
    }
   ],
   "source": [
    "S = input()\n",
    "S = sorted(S)\n",
    "S_str = ''\n",
    "num = 0\n",
    "\n",
    "for i in range(len(S)):\n",
    "    S_str += S[i]\n",
    "\n",
    "for i in range(len(S)):\n",
    "    if S_str.count(S_str[i]) > num:\n",
    "        ans = S_str[i]\n",
    "        num = S_str.count(S_str[i])\n",
    "\n",
    "print(ans)"
   ]
  },
  {
   "cell_type": "code",
   "execution_count": null,
   "metadata": {},
   "outputs": [],
   "source": [
    "S = input()\n",
    "S = ''.join(sorted(S))\n",
    "\n",
    "import numpy as np\n",
    "S_list = np.zeros(len(S), dtype=int)\n",
    "\n",
    "for i in range(len(S)):\n",
    "    S_list[i] = S.count(S[i])\n",
    "\n",
    "max_index = np.where(S_list == np.max(S_list))[0]\n",
    "\n",
    "print(S[max_index[0]])"
   ]
  }
 ],
 "metadata": {
  "kernelspec": {
   "display_name": ".venv1",
   "language": "python",
   "name": "python3"
  },
  "language_info": {
   "codemirror_mode": {
    "name": "ipython",
    "version": 3
   },
   "file_extension": ".py",
   "mimetype": "text/x-python",
   "name": "python",
   "nbconvert_exporter": "python",
   "pygments_lexer": "ipython3",
   "version": "3.11.5"
  }
 },
 "nbformat": 4,
 "nbformat_minor": 2
}
