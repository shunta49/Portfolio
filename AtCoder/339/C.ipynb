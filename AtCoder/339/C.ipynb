{
 "cells": [
  {
   "cell_type": "code",
   "execution_count": 24,
   "metadata": {},
   "outputs": [
    {
     "name": "stdout",
     "output_type": "stream",
     "text": [
      "3\n"
     ]
    }
   ],
   "source": [
    "N = int(input())\n",
    "A = list(map(int,input().split()))\n",
    "num = 0\n",
    "num_list = []\n",
    "\n",
    "for i in range(N):\n",
    "    num += A[i]\n",
    "    num_list.append(num)\n",
    "\n",
    "import numpy as np\n",
    "if any(np.array(num_list) < 0):\n",
    "    num = -min(num_list)\n",
    "    num_list = []\n",
    "    for i in range(N):\n",
    "        num += A[i]\n",
    "        num_list.append(num)\n",
    "\n",
    "print(num_list[-1])"
   ]
  }
 ],
 "metadata": {
  "kernelspec": {
   "display_name": ".venv1",
   "language": "python",
   "name": "python3"
  },
  "language_info": {
   "codemirror_mode": {
    "name": "ipython",
    "version": 3
   },
   "file_extension": ".py",
   "mimetype": "text/x-python",
   "name": "python",
   "nbconvert_exporter": "python",
   "pygments_lexer": "ipython3",
   "version": "3.11.5"
  }
 },
 "nbformat": 4,
 "nbformat_minor": 2
}
