{
 "cells": [
  {
   "cell_type": "code",
   "execution_count": 3,
   "metadata": {},
   "outputs": [
    {
     "name": "stdout",
     "output_type": "stream",
     "text": [
      "hpp\n"
     ]
    }
   ],
   "source": [
    "#なぜか間違えになる。。\n",
    "S = input()\n",
    "for i in range(1,len(S)):\n",
    "    if S[-i] == '.':\n",
    "        S = S[-i+1:]\n",
    "        break\n",
    "\n",
    "print(S)"
   ]
  },
  {
   "cell_type": "code",
   "execution_count": null,
   "metadata": {},
   "outputs": [],
   "source": [
    "S = input()\n",
    "ans = ''\n",
    "\n",
    "for i in range(len(S)):\n",
    "    ans += S[i]\n",
    "\n",
    "    if S[i]=='.':\n",
    "        ans = ''\n",
    "\n",
    "print(ans)"
   ]
  }
 ],
 "metadata": {
  "kernelspec": {
   "display_name": ".venv1",
   "language": "python",
   "name": "python3"
  },
  "language_info": {
   "codemirror_mode": {
    "name": "ipython",
    "version": 3
   },
   "file_extension": ".py",
   "mimetype": "text/x-python",
   "name": "python",
   "nbconvert_exporter": "python",
   "pygments_lexer": "ipython3",
   "version": "3.11.5"
  }
 },
 "nbformat": 4,
 "nbformat_minor": 2
}
