{
 "cells": [
  {
   "cell_type": "code",
   "execution_count": 10,
   "metadata": {},
   "outputs": [
    {
     "name": "stdout",
     "output_type": "stream",
     "text": [
      ".#..\n",
      "##..\n",
      "....\n"
     ]
    }
   ],
   "source": [
    "\n",
    "H, W, N = map(int,input().split())\n",
    "\n",
    "def action(position,direction,grid,H,W):\n",
    "    if grid[position[0]%H][position[1]%W]=='.':\n",
    "        grid[position[0]%H][position[1]%W] = '#'\n",
    "        direction += 1\n",
    "        if direction%4 == 0:\n",
    "            position[0] -= 1\n",
    "        if direction%4 == 1:\n",
    "            position[1] += 1\n",
    "        if direction%4 == 2:\n",
    "            position[0] += 1\n",
    "        if direction%4 == 3:\n",
    "            position[1] -= 1\n",
    "    else:\n",
    "        grid[position[0]%H][position[1]%W] = '.'\n",
    "        direction -= 1\n",
    "        if direction%4 == 0:\n",
    "            position[0] -= 1\n",
    "        if direction%4 == 1:\n",
    "            position[1] += 1\n",
    "        if direction%4 == 2:\n",
    "            position[0] += 1\n",
    "        if direction%4 == 3:\n",
    "            position[1] -= 1\n",
    "        \n",
    "    return position,direction,grid\n",
    "\n",
    "import numpy as np\n",
    "grid = np.full((H, W), '.')\n",
    "position = [0,0]\n",
    "direction = 0   #mod0,1,2,3→上、右、下、左\n",
    "\n",
    "for i in range(N):\n",
    "    position, direction, grid = action(position,direction,grid,H,W)\n",
    "\n",
    "#なんか出力違う\n",
    "#for i in range(len(grid)):\n",
    "#    print(*grid[i])\n",
    "\n",
    "for i in range(H):\n",
    "    print(\"\".join(grid[i]))"
   ]
  }
 ],
 "metadata": {
  "kernelspec": {
   "display_name": ".venv1",
   "language": "python",
   "name": "python3"
  },
  "language_info": {
   "codemirror_mode": {
    "name": "ipython",
    "version": 3
   },
   "file_extension": ".py",
   "mimetype": "text/x-python",
   "name": "python",
   "nbconvert_exporter": "python",
   "pygments_lexer": "ipython3",
   "version": "3.11.5"
  },
  "orig_nbformat": 4
 },
 "nbformat": 4,
 "nbformat_minor": 2
}
