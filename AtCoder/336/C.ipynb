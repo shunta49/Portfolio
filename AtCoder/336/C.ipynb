{
 "cells": [
  {
   "cell_type": "code",
   "execution_count": 6,
   "metadata": {},
   "outputs": [
    {
     "name": "stdout",
     "output_type": "stream",
     "text": [
      "2006628868244228\n"
     ]
    }
   ],
   "source": [
    "N = int(input())-1\n",
    "ans = 0\n",
    "i = 0\n",
    "\n",
    "while(N > 0):\n",
    "    ans += (N%5)*10**i\n",
    "    N = N//5\n",
    "    i += 1\n",
    "\n",
    "print((ans)*2)"
   ]
  }
 ],
 "metadata": {
  "kernelspec": {
   "display_name": ".venv1",
   "language": "python",
   "name": "python3"
  },
  "language_info": {
   "codemirror_mode": {
    "name": "ipython",
    "version": 3
   },
   "file_extension": ".py",
   "mimetype": "text/x-python",
   "name": "python",
   "nbconvert_exporter": "python",
   "pygments_lexer": "ipython3",
   "version": "3.11.5"
  }
 },
 "nbformat": 4,
 "nbformat_minor": 2
}
