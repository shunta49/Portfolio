{
 "cells": [
  {
   "cell_type": "code",
   "execution_count": 36,
   "metadata": {},
   "outputs": [
    {
     "name": "stdout",
     "output_type": "stream",
     "text": [
      "3 0\n",
      "2 0\n",
      "1 1\n",
      "1 0\n",
      "1 0\n"
     ]
    }
   ],
   "source": [
    "N, Q = map(int, input().split())\n",
    "query = []\n",
    "for i in range(Q):\n",
    "    query.append(list(map(str, input().split())))\n",
    "\n",
    "action = 0\n",
    "head = [[1,0]]\n",
    "for i in range(len(query)):\n",
    "    if query[i][0] == '1' and query[i][1] == 'L':\n",
    "        head.append([head[action][0] - 1,head[action][1]])\n",
    "        action += 1\n",
    "    elif query[i][0] == '1' and query[i][1] == 'R':\n",
    "        head.append([head[action][0] + 1,head[action][1]])\n",
    "        action += 1\n",
    "    elif query[i][0] == '1' and query[i][1] == 'U':\n",
    "        head.append([head[action][0],head[action][1] + 1])\n",
    "        action += 1\n",
    "    elif query[i][0] == '1' and query[i][1] == 'D':\n",
    "        head.append([head[action][0],head[action][1] - 1])\n",
    "        action += 1\n",
    "    elif query[i][0] == '2' and int(query[i][1]) <= action+1:\n",
    "        print(*head[-int(query[i][1])])\n",
    "    elif query[i][0] == '2' and int(query[i][1]) > action+1:\n",
    "        print(*[int(query[i][1])-action, 0])\n",
    "    else:\n",
    "        print('?')\n"
   ]
  }
 ],
 "metadata": {
  "kernelspec": {
   "display_name": ".venv1",
   "language": "python",
   "name": "python3"
  },
  "language_info": {
   "codemirror_mode": {
    "name": "ipython",
    "version": 3
   },
   "file_extension": ".py",
   "mimetype": "text/x-python",
   "name": "python",
   "nbconvert_exporter": "python",
   "pygments_lexer": "ipython3",
   "version": "3.11.5"
  }
 },
 "nbformat": 4,
 "nbformat_minor": 2
}
