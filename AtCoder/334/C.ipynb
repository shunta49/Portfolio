{
 "cells": [
  {
   "cell_type": "code",
   "execution_count": null,
   "metadata": {},
   "outputs": [],
   "source": [
    "N, K = map(int,input().split())\n",
    "A_list = list(map(int,input().split()))\n",
    "\n",
    "#まずなくしてない靴下をつなぐ→Kが奇数と偶数で場合分け\n",
    "ans = 0\n",
    "\n",
    "if K%2 == 0:\n",
    "    for i in range(K//2):\n",
    "        ans += A_list[2*i+1] - A_list[2*i]\n",
    "else:\n",
    "    l = K//2\n",
    "    b = [0]*(l+1)\n",
    "    for i in range(l):\n",
    "        b[0] += A_list[2*i+2]  -A_list[2*i+1]\n",
    "    for i in range(l):\n",
    "        b[i+1] = b[i] - (A_list[2*i+2]-A_list[2*i+1]) + (A_list[2*i+1]-A_list[2*i])\n",
    "    ans = min(b)\n",
    "\n",
    "print(ans)\n"
   ]
  }
 ],
 "metadata": {
  "kernelspec": {
   "display_name": ".venv1",
   "language": "python",
   "name": "python3"
  },
  "language_info": {
   "codemirror_mode": {
    "name": "ipython",
    "version": 3
   },
   "file_extension": ".py",
   "mimetype": "text/x-python",
   "name": "python",
   "nbconvert_exporter": "python",
   "pygments_lexer": "ipython3",
   "version": "3.11.5"
  }
 },
 "nbformat": 4,
 "nbformat_minor": 2
}
