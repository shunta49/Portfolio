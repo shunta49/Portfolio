{
 "cells": [
  {
   "cell_type": "code",
   "execution_count": null,
   "metadata": {},
   "outputs": [],
   "source": [
    "B, G = map(int, input().split())\n",
    "\n",
    "if B > G:\n",
    "    print('Bat')\n",
    "elif B < G:\n",
    "    print('Glove')\n",
    "else:\n",
    "    print('error')\n"
   ]
  }
 ],
 "metadata": {
  "language_info": {
   "name": "python"
  }
 },
 "nbformat": 4,
 "nbformat_minor": 2
}
