{
 "cells": [
  {
   "cell_type": "code",
   "execution_count": 3,
   "metadata": {},
   "outputs": [],
   "source": [
    "import ccxt\n",
    "import json\n",
    "import requests\n",
    "from time import sleep\n",
    "from itertools import count\n",
    "import matplotlib.pyplot as plt\n",
    "import matplotlib as mpl\n",
    "from matplotlib.animation import FuncAnimation\n",
    "plt.style.use('fivethirtyeight')\n",
    "mpl.use('TkAgg')"
   ]
  },
  {
   "cell_type": "code",
   "execution_count": 4,
   "metadata": {},
   "outputs": [],
   "source": [
    "# GMOコイン 板情報\n",
    "def gmo_table():\n",
    "    ita_prep = requests.get('https://api.coin.z.com/public/v1/ticker?symbol=BTC')\n",
    "    ita = ita_prep.json()['data'][0]\n",
    "    return ita\n",
    "\n",
    "# Coincheck 板情報\n",
    "base = ccxt.coincheck()\n",
    "def coin_table():\n",
    "    ticker = base.fetch_ticker(symbol='BTC/JPY')\n",
    "    return ticker"
   ]
  },
  {
   "cell_type": "code",
   "execution_count": 5,
   "metadata": {},
   "outputs": [],
   "source": [
    "x      = []      # x軸\n",
    "index  = count() # x軸(カウント)\n",
    "y_gmo  = []      # gmo(ask)\n",
    "y_coin = []      # coincheck(ask\n",
    "\n",
    "# グラフ可視化関数\n",
    "def animate(i):\n",
    "    gmo_ask =  float(gmo_table()[\"ask\"])       # GMOコイン(買値)\n",
    "    coincheck_ask = float(coin_table()[\"ask\"]) # Coin Check(買値)\n",
    "\n",
    "    # リスト格納\n",
    "    x.append(next(index))\n",
    "    y_gmo.append(gmo_ask)\n",
    "    y_coin.append(coincheck_ask)\n",
    "\n",
    "    # グラフ設定\n",
    "    plt.cla()\n",
    "    plt.title(\"Compare Ask\")\n",
    "    plt.xlabel(\"Time\")\n",
    "    plt.ylabel(\"Bitcoin[BTC]\")\n",
    "    plt.plot(x,y_gmo ,label=\"GMO Coin\")\n",
    "    plt.plot(x,y_coin ,label=\"Coin Check\")\n",
    "    plt.legend(loc=\"upper left\")\n",
    "    plt.tight_layout()"
   ]
  },
  {
   "cell_type": "code",
   "execution_count": 6,
   "metadata": {},
   "outputs": [
    {
     "name": "stderr",
     "output_type": "stream",
     "text": [
      "/tmp/ipykernel_1203/1243211227.py:2: UserWarning: frames=None which we can infer the length of, did not pass an explicit *save_count* and passed cache_frame_data=True.  To avoid a possibly unbounded cache, frame data caching has been disabled. To suppress this warning either pass `cache_frame_data=False` or `save_count=MAX_FRAMES`.\n",
      "  ani = FuncAnimation(plt.gcf(),animate,interval=1000)\n",
      "/tmp/ipykernel_1203/3139258449.py:24: UserWarning: The figure layout has changed to tight\n",
      "  plt.tight_layout()\n"
     ]
    }
   ],
   "source": [
    "# アニメーショングラフ適用(インターバル：2秒)\n",
    "ani = FuncAnimation(plt.gcf(),animate,interval=1000)\n",
    "\n",
    "# グラフ表示\n",
    "plt.tight_layout()\n",
    "plt.show()"
   ]
  }
 ],
 "metadata": {
  "kernelspec": {
   "display_name": ".venv1",
   "language": "python",
   "name": "python3"
  },
  "language_info": {
   "codemirror_mode": {
    "name": "ipython",
    "version": 3
   },
   "file_extension": ".py",
   "mimetype": "text/x-python",
   "name": "python",
   "nbconvert_exporter": "python",
   "pygments_lexer": "ipython3",
   "version": "3.11.5"
  }
 },
 "nbformat": 4,
 "nbformat_minor": 2
}
